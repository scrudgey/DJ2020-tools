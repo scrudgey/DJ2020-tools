from pathlib import Path
import argparse
import math
import sys
from dataclasses import dataclass, field
from PIL import Image
import xml.etree.ElementTree as ET
from indexes import *


from spritesheet import Spritesheet
import spritesheet


SPRITESHEET_DIRECTORY = '/Users/rfoltz/dev/game-dev/wetworks/Assets/Resources/sprites/spritesheets'
HEAD_SPRITESHEET_DIRECTORY = '/Users/rfoltz/dev/game-dev/wetworks/Assets/Resources/sprites/spritesheets/head'
EXCLUDE_SKINS = ['cyber', 'generic64', 'gibs', 'head']

spritesheet_path = Path(SPRITESHEET_DIRECTORY)

if not spritesheet_path.is_dir():
    print(f"Error: The base spritesheet directory was not found at '{SPRITESHEET_DIRECTORY}'")
    sys.exit(1)

# Get available directory names to use for validation and listing
available_dirs = {d.name: d for d in spritesheet_path.iterdir() if d.is_dir() and d.name not in EXCLUDE_SKINS}
available_dir_names = sorted(available_dirs.keys())


available_dir_names


available_dirs


skin_name = 'Jack'
sheet = Spritesheet(available_dirs[skin_name], available_dirs[skin_name], skin_name)


sheet


len(sheet.unarmed_metadata_list)


sheet.unarmed_metadata_list[0]


Path.cwd() / 'test.xml'


path = Path.cwd() / 'test.xml'


spritesheet.save_metadata_at_path(path, sheet.unarmed_metadata_list)



