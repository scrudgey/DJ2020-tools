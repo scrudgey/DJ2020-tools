{
 "cells": [
  {
   "cell_type": "code",
   "execution_count": 1,
   "id": "faa63e0b-86ad-4b08-8aa1-6819ae8fc127",
   "metadata": {},
   "outputs": [],
   "source": [
    "from pathlib import Path\n",
    "import argparse\n",
    "import math\n",
    "import sys\n",
    "from dataclasses import dataclass, field\n",
    "from PIL import Image\n",
    "import xml.etree.ElementTree as ET\n",
    "from indexes import *\n"
   ]
  },
  {
   "cell_type": "code",
   "execution_count": 2,
   "id": "80a6f426-c5db-43d9-9c1d-9b24ba671b62",
   "metadata": {},
   "outputs": [],
   "source": [
    "SPRITESHEET_DIRECTORY = '/Users/rfoltz/dev/game-dev/wetworks/Assets/Resources/sprites/spritesheets'\n",
    "HEAD_SPRITESHEET_DIRECTORY = '/Users/rfoltz/dev/game-dev/wetworks/Assets/Resources/sprites/spritesheets/head'\n",
    "EXCLUDE_SKINS = ['cyber', 'generic64', 'gibs', 'head']\n",
    "\n",
    "spritesheet_path = Path(SPRITESHEET_DIRECTORY)\n",
    "\n",
    "if not spritesheet_path.is_dir():\n",
    "    print(f\"Error: The base spritesheet directory was not found at '{SPRITESHEET_DIRECTORY}'\")\n",
    "    sys.exit(1)\n",
    "\n",
    "# Get available directory names to use for validation and listing\n",
    "available_dirs = {d.name: d for d in spritesheet_path.iterdir() if d.is_dir() and d.name not in EXCLUDE_SKINS}\n",
    "available_dir_names = sorted(available_dirs.keys())"
   ]
  },
  {
   "cell_type": "code",
   "execution_count": 3,
   "id": "d6e4d11d-7a33-40c8-abce-50d17e0ac48e",
   "metadata": {},
   "outputs": [
    {
     "data": {
      "text/plain": [
       "['Jack',\n",
       " 'businessman',\n",
       " 'businesswoman',\n",
       " 'civ_female',\n",
       " 'civ_male',\n",
       " 'fireman',\n",
       " 'scientist',\n",
       " 'security',\n",
       " 'swat']"
      ]
     },
     "execution_count": 3,
     "metadata": {},
     "output_type": "execute_result"
    }
   ],
   "source": [
    "available_dir_names"
   ]
  },
  {
   "cell_type": "code",
   "execution_count": 5,
   "id": "a1565a7f-2a58-438d-b91f-56c9f47d1d98",
   "metadata": {},
   "outputs": [
    {
     "data": {
      "text/plain": [
       "{'fireman': PosixPath('/Users/rfoltz/dev/game-dev/wetworks/Assets/Resources/sprites/spritesheets/fireman'),\n",
       " 'businesswoman': PosixPath('/Users/rfoltz/dev/game-dev/wetworks/Assets/Resources/sprites/spritesheets/businesswoman'),\n",
       " 'security': PosixPath('/Users/rfoltz/dev/game-dev/wetworks/Assets/Resources/sprites/spritesheets/security'),\n",
       " 'scientist': PosixPath('/Users/rfoltz/dev/game-dev/wetworks/Assets/Resources/sprites/spritesheets/scientist'),\n",
       " 'civ_male': PosixPath('/Users/rfoltz/dev/game-dev/wetworks/Assets/Resources/sprites/spritesheets/civ_male'),\n",
       " 'Jack': PosixPath('/Users/rfoltz/dev/game-dev/wetworks/Assets/Resources/sprites/spritesheets/Jack'),\n",
       " 'civ_female': PosixPath('/Users/rfoltz/dev/game-dev/wetworks/Assets/Resources/sprites/spritesheets/civ_female'),\n",
       " 'swat': PosixPath('/Users/rfoltz/dev/game-dev/wetworks/Assets/Resources/sprites/spritesheets/swat'),\n",
       " 'businessman': PosixPath('/Users/rfoltz/dev/game-dev/wetworks/Assets/Resources/sprites/spritesheets/businessman')}"
      ]
     },
     "execution_count": 5,
     "metadata": {},
     "output_type": "execute_result"
    }
   ],
   "source": [
    "available_dirs"
   ]
  },
  {
   "cell_type": "code",
   "execution_count": 4,
   "id": "01327879-ce88-4472-8e05-f3a34dad19f3",
   "metadata": {},
   "outputs": [],
   "source": [
    "from spritesheet import Spritesheet"
   ]
  },
  {
   "cell_type": "code",
   "execution_count": 6,
   "id": "f5984c5e-d236-4c3f-b53a-449ca7e4bdc4",
   "metadata": {},
   "outputs": [
    {
     "name": "stdout",
     "output_type": "stream",
     "text": [
      "Processing selected parts:\n",
      "  - Legs:  '/Users/rfoltz/dev/game-dev/wetworks/Assets/Resources/sprites/spritesheets/Jack/Legs.png'\n",
      "  - Torso: '/Users/rfoltz/dev/game-dev/wetworks/Assets/Resources/sprites/spritesheets/Jack/Torso.png'\n",
      "  - Head:  '/Users/rfoltz/dev/game-dev/wetworks/Assets/Resources/sprites/spritesheets/head/Jack.png'\n"
     ]
    }
   ],
   "source": [
    "skin_name = 'Jack'\n",
    "sheet = Spritesheet(available_dirs[skin_name], available_dirs[skin_name], skin_name)"
   ]
  },
  {
   "cell_type": "code",
   "execution_count": 7,
   "id": "23783106-f2d8-4fa8-a455-e62473335f36",
   "metadata": {},
   "outputs": [
    {
     "data": {
      "text/plain": [
       "<spritesheet.Spritesheet at 0x1697d8500>"
      ]
     },
     "execution_count": 7,
     "metadata": {},
     "output_type": "execute_result"
    }
   ],
   "source": [
    "sheet"
   ]
  },
  {
   "cell_type": "code",
   "execution_count": 9,
   "id": "294cb44f-15eb-4b83-aa85-91dc0181380f",
   "metadata": {},
   "outputs": [
    {
     "data": {
      "text/plain": [
       "SpriteMetadata(head_offset=Point(x=0, y=18), head_in_front_of_torso=True)"
      ]
     },
     "execution_count": 9,
     "metadata": {},
     "output_type": "execute_result"
    }
   ],
   "source": [
    "sheet.unarmed_metadata_list[0]"
   ]
  },
  {
   "cell_type": "code",
   "execution_count": null,
   "id": "99ba731f-b59d-4783-abbf-61761f61e6cb",
   "metadata": {},
   "outputs": [],
   "source": []
  }
 ],
 "metadata": {
  "kernelspec": {
   "display_name": "Python 3 (ipykernel)",
   "language": "python",
   "name": "python3"
  },
  "language_info": {
   "codemirror_mode": {
    "name": "ipython",
    "version": 3
   },
   "file_extension": ".py",
   "mimetype": "text/x-python",
   "name": "python",
   "nbconvert_exporter": "python",
   "pygments_lexer": "ipython3",
   "version": "3.12.4"
  }
 },
 "nbformat": 4,
 "nbformat_minor": 5
}
